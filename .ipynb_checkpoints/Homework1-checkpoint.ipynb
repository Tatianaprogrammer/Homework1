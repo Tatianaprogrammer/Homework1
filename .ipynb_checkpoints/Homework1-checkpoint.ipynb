{
 "cells": [
  {
   "cell_type": "code",
   "execution_count": 3,
   "id": "ca8a2137",
   "metadata": {},
   "outputs": [
    {
     "name": "stdout",
     "output_type": "stream",
     "text": [
      "Введите сторону треугольника: 5\n",
      "Введите сторону треугольника: 6\n",
      "Введите сторону треугольника: 3\n",
      "Треугольник произвольный\n",
      "Треугольник прямоугольный\n"
     ]
    }
   ],
   "source": [
    "def angle(a,b,c): \n",
    "    maxstorona=max(a,b,c)\n",
    "    minstorona=min(a,b,c)\n",
    "    sredsotona=0\n",
    "    if a>=minstorona and a<=maxstorona:\n",
    "        sredstorona=a\n",
    "    if b>=minstorona and b<=maxstorona:\n",
    "        sredstorona=b\n",
    "    if c>=minstorona and c<=maxstorona:\n",
    "        sredstorona=c\n",
    "    cos=(minstorona+sredstorona-maxstorona)/(2*sredstorona*minstorona)\n",
    "    return cos\n",
    "\n",
    "a=int(input('Введите сторону треугольника: '))\n",
    "b=int(input('Введите сторону треугольника: '))\n",
    "c=int(input('Введите сторону треугольника: '))\n",
    "\n",
    "if a+b>c and a+c>b and c+b>a:\n",
    "    if a==b and b==c:\n",
    "        print('Треугольник равносторонний')\n",
    "    elif a==b or b==c or a==c:\n",
    "        print('Треугольник равнобедренный')\n",
    "    else:\n",
    "        print('Треугольник произвольный')\n",
    "\n",
    "    if angle(a,b,c) > 0:\n",
    "        print('Треугольник остроугольный')\n",
    "    elif angle(a,b,c) == 0:\n",
    "        print('Треугольник прямоугольный')\n",
    "    else:\n",
    "        print('Треугольник тупоугольный')\n",
    "else:\n",
    "    print('Нельзя построить треугольник')\n"
   ]
  },
  {
   "cell_type": "code",
   "execution_count": null,
   "id": "bf07172c",
   "metadata": {},
   "outputs": [],
   "source": []
  }
 ],
 "metadata": {
  "kernelspec": {
   "display_name": "Python 3 (ipykernel)",
   "language": "python",
   "name": "python3"
  },
  "language_info": {
   "codemirror_mode": {
    "name": "ipython",
    "version": 3
   },
   "file_extension": ".py",
   "mimetype": "text/x-python",
   "name": "python",
   "nbconvert_exporter": "python",
   "pygments_lexer": "ipython3",
   "version": "3.9.7"
  }
 },
 "nbformat": 4,
 "nbformat_minor": 5
}
